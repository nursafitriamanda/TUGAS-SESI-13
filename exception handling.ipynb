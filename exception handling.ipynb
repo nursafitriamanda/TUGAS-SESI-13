{
 "cells": [
  {
   "cell_type": "markdown",
   "id": "a43a48e5",
   "metadata": {},
   "source": [
    "# EXCEPTION HANDLING "
   ]
  },
  {
   "cell_type": "markdown",
   "id": "a9ac4132",
   "metadata": {},
   "source": [
    "## tugas sesi 13"
   ]
  },
  {
   "cell_type": "markdown",
   "id": "73a73e22",
   "metadata": {},
   "source": [
    "1. Kapan pengecualian bawaan berikut dimunculkan? Berikan contoh untuk mendukung jawaban Anda. (score = 70)\n",
    "ImportError\n",
    "IOError\n",
    "NameError\n",
    "ZeroDivisionError\n",
    "\n",
    "2.\tJelaskan hal berikut: (score = 30)\n",
    "Exception Handling\n",
    "Menangkap exception\n"
   ]
  },
  {
   "cell_type": "markdown",
   "id": "9281c462",
   "metadata": {},
   "source": [
    "<b>1.a. import eror<b/>\n",
    "\n",
    "ImportError terjadi ketika sebuah program mencoba untuk mengimport modul atau paket yang tidak ditemukan atau tidak dapat diakses. \n",
    "Hal ini dapat terjadi karena modul atau paket tersebut tidak ada dalam sistem, atau karena tidak ada dalam PYTHONPATH (lokasi dimana Python mencari modul dan paket) \n",
    "atau karena terdapat kesalahan pada nama modul atau paket yang diimport. Contoh:"
   ]
  },
  {
   "cell_type": "code",
   "execution_count": 1,
   "id": "7553b27f",
   "metadata": {
    "scrolled": true
   },
   "outputs": [
    {
     "ename": "ModuleNotFoundError",
     "evalue": "No module named 'mymodule'",
     "output_type": "error",
     "traceback": [
      "\u001b[1;31m---------------------------------------------------------------------------\u001b[0m",
      "\u001b[1;31mModuleNotFoundError\u001b[0m                       Traceback (most recent call last)",
      "Input \u001b[1;32mIn [1]\u001b[0m, in \u001b[0;36m<cell line: 2>\u001b[1;34m()\u001b[0m\n\u001b[0;32m      1\u001b[0m \u001b[38;5;66;03m# akan error karena modul mymodule tidak ada\u001b[39;00m\n\u001b[1;32m----> 2\u001b[0m \u001b[38;5;28;01mimport\u001b[39;00m \u001b[38;5;21;01mmymodule\u001b[39;00m\n",
      "\u001b[1;31mModuleNotFoundError\u001b[0m: No module named 'mymodule'"
     ]
    }
   ],
   "source": [
    "# akan error karena modul mymodule tidak ada\n",
    "import mymodule"
   ]
  },
  {
   "cell_type": "markdown",
   "id": "55667d27",
   "metadata": {},
   "source": [
    "<b>1.b. IOError<b/>\n",
    "\n",
    "IOError terjadi ketika sebuah program mengalami masalah saat melakukan operasi input/output seperti membaca atau menulis file. Hal ini dapat terjadi karena file yang akan dibaca atau ditulis tidak ditemukan, tidak dapat diakses karena hak akses yang tidak cukup, atau karena masalah lainnya seperti masalah jaringan atau masalah perangkat keras. Contoh:\n",
    "    "
   ]
  },
  {
   "cell_type": "code",
   "execution_count": 3,
   "id": "b01cf7ad",
   "metadata": {},
   "outputs": [
    {
     "ename": "FileNotFoundError",
     "evalue": "[Errno 2] No such file or directory: 'file.txt'",
     "output_type": "error",
     "traceback": [
      "\u001b[1;31m---------------------------------------------------------------------------\u001b[0m",
      "\u001b[1;31mFileNotFoundError\u001b[0m                         Traceback (most recent call last)",
      "Input \u001b[1;32mIn [3]\u001b[0m, in \u001b[0;36m<cell line: 3>\u001b[1;34m()\u001b[0m\n\u001b[0;32m      1\u001b[0m \u001b[38;5;66;03m# akan error karena file tersebut tidak ada\u001b[39;00m\n\u001b[0;32m      2\u001b[0m \u001b[38;5;66;03m# FileNotFoundError merupakan subclass dari IOError\u001b[39;00m\n\u001b[1;32m----> 3\u001b[0m f \u001b[38;5;241m=\u001b[39m \u001b[38;5;28;43mopen\u001b[39;49m\u001b[43m(\u001b[49m\u001b[38;5;124;43m\"\u001b[39;49m\u001b[38;5;124;43mfile.txt\u001b[39;49m\u001b[38;5;124;43m\"\u001b[39;49m\u001b[43m,\u001b[49m\u001b[43m \u001b[49m\u001b[38;5;124;43m\"\u001b[39;49m\u001b[38;5;124;43mr\u001b[39;49m\u001b[38;5;124;43m\"\u001b[39;49m\u001b[43m)\u001b[49m\n",
      "\u001b[1;31mFileNotFoundError\u001b[0m: [Errno 2] No such file or directory: 'file.txt'"
     ]
    }
   ],
   "source": [
    "# akan error karena file tersebut tidak ada\n",
    "# FileNotFoundError merupakan subclass dari IOError\n",
    "f = open(\"file.txt\", \"r\")"
   ]
  },
  {
   "cell_type": "markdown",
   "id": "12bb4ec1",
   "metadata": {},
   "source": [
    "<b>1.c. NameError<b/>\n",
    "    \n",
    "NameError terjadi ketika sebuah variabel atau fungsi yang tidak didefinisikan diakses oleh program. Hal ini dapat terjadi karena kesalahan ketik atau karena sebuah variabel atau fungsi belum didefinisikan sebelum digunakan dalam program. Contoh:"
   ]
  },
  {
   "cell_type": "code",
   "execution_count": 4,
   "id": "19f01daf",
   "metadata": {},
   "outputs": [
    {
     "ename": "NameError",
     "evalue": "name 'myvar' is not defined",
     "output_type": "error",
     "traceback": [
      "\u001b[1;31m---------------------------------------------------------------------------\u001b[0m",
      "\u001b[1;31mNameError\u001b[0m                                 Traceback (most recent call last)",
      "Input \u001b[1;32mIn [4]\u001b[0m, in \u001b[0;36m<cell line: 2>\u001b[1;34m()\u001b[0m\n\u001b[0;32m      1\u001b[0m \u001b[38;5;66;03m# akan error karena variabel myvar tidak pernah didefinisikan\u001b[39;00m\n\u001b[1;32m----> 2\u001b[0m \u001b[38;5;28mprint\u001b[39m(\u001b[43mmyvar\u001b[49m)\n",
      "\u001b[1;31mNameError\u001b[0m: name 'myvar' is not defined"
     ]
    }
   ],
   "source": [
    "# akan error karena variabel myvar tidak pernah didefinisikan\n",
    "print(myvar)"
   ]
  },
  {
   "cell_type": "markdown",
   "id": "9758977d",
   "metadata": {},
   "source": [
    "<b>1.d ZeroDivisionError<b/>\n",
    "\n",
    "ZeroDivisionError terjadi ketika sebuah bilangan dibagi dengan nol. Hal ini tidak dapat dilakukan dalam matematika, dan akan menyebabkan error dalam program. Contoh:\n",
    "\n"
   ]
  },
  {
   "cell_type": "code",
   "execution_count": 5,
   "id": "8f4a2122",
   "metadata": {},
   "outputs": [
    {
     "ename": "ZeroDivisionError",
     "evalue": "division by zero",
     "output_type": "error",
     "traceback": [
      "\u001b[1;31m---------------------------------------------------------------------------\u001b[0m",
      "\u001b[1;31mZeroDivisionError\u001b[0m                         Traceback (most recent call last)",
      "Input \u001b[1;32mIn [5]\u001b[0m, in \u001b[0;36m<cell line: 2>\u001b[1;34m()\u001b[0m\n\u001b[0;32m      1\u001b[0m \u001b[38;5;66;03m# akan error karena tidak bisa membagi dengan nol\u001b[39;00m\n\u001b[1;32m----> 2\u001b[0m a \u001b[38;5;241m=\u001b[39m \u001b[38;5;241;43m1\u001b[39;49m\u001b[38;5;241;43m/\u001b[39;49m\u001b[38;5;241;43m0\u001b[39;49m\n",
      "\u001b[1;31mZeroDivisionError\u001b[0m: division by zero"
     ]
    }
   ],
   "source": [
    "# akan error karena tidak bisa membagi dengan nol\n",
    "a = 1/0"
   ]
  },
  {
   "cell_type": "code",
   "execution_count": null,
   "id": "e0ebecf4",
   "metadata": {},
   "outputs": [],
   "source": []
  },
  {
   "cell_type": "markdown",
   "id": "1bb7a741",
   "metadata": {},
   "source": [
    "<b>2.a Exception Handling<b/>\n",
    "\n",
    "Exception Handling adalah suatu proses menangani error yang mungkin terjadi dalam sebuah program. Hal ini dilakukan dengan menggunakan perintah try dan except yang digunakan untuk mengeksekusi kode yang mungkin menyebabkan error dan memberikan aksi yang sesuai jika terjadi error. Contoh:"
   ]
  },
  {
   "cell_type": "code",
   "execution_count": 7,
   "id": "9f9013c4",
   "metadata": {
    "scrolled": true
   },
   "outputs": [
    {
     "name": "stdout",
     "output_type": "stream",
     "text": [
      "Tidak bisa melakukan pembagian dengan nol\n"
     ]
    }
   ],
   "source": [
    "try:\n",
    "   a = 1/0\n",
    "except:\n",
    "   print(\"Tidak bisa melakukan pembagian dengan nol\")"
   ]
  },
  {
   "cell_type": "markdown",
   "id": "d1c74beb",
   "metadata": {},
   "source": [
    "<b>2.b Menangkap Exception<b/>\n",
    "\n",
    "Menangkap exception berarti mencoba mendeteksi error-error tertentu yang mungkin terjadi dalam suatu kode program. Sebagai contoh, kita ingin mendeteksi error apabila kita ingin mengakses suatu karakter pada string dengan index yang tidak ada. Maka kita dapat menambahkan exception IndexError setelah except. Sebagai contoh:"
   ]
  },
  {
   "cell_type": "code",
   "execution_count": 13,
   "id": "9552a7c0",
   "metadata": {},
   "outputs": [
    {
     "name": "stdout",
     "output_type": "stream",
     "text": [
      "Masukan text: ujang solihin\n",
      "Tidak terdapat karakter dengan index 100 pada text 'ujang solihin'\n"
     ]
    }
   ],
   "source": [
    "try:\n",
    "    a = input(\"Masukan text: \")\n",
    "    print(a[100])\n",
    "except IndexError:\n",
    "   print(f\"Tidak terdapat karakter dengan index 100 pada text '{a}'\")"
   ]
  },
  {
   "cell_type": "markdown",
   "id": "20736b6d",
   "metadata": {},
   "source": [
    "Pada program diatas, kita mencoba menangkap exception IndexError yang kemungkinan terjadi jika panjang string kurang dari 101"
   ]
  }
 ],
 "metadata": {
  "kernelspec": {
   "display_name": "Python 3 (ipykernel)",
   "language": "python",
   "name": "python3"
  },
  "language_info": {
   "codemirror_mode": {
    "name": "ipython",
    "version": 3
   },
   "file_extension": ".py",
   "mimetype": "text/x-python",
   "name": "python",
   "nbconvert_exporter": "python",
   "pygments_lexer": "ipython3",
   "version": "3.9.12"
  }
 },
 "nbformat": 4,
 "nbformat_minor": 5
}
